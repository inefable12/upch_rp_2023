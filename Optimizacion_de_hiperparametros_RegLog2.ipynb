{
  "nbformat": 4,
  "nbformat_minor": 0,
  "metadata": {
    "colab": {
      "provenance": [],
      "authorship_tag": "ABX9TyMwPx0jLrMjagYacCtsITsG",
      "include_colab_link": true
    },
    "kernelspec": {
      "name": "python3",
      "display_name": "Python 3"
    },
    "language_info": {
      "name": "python"
    }
  },
  "cells": [
    {
      "cell_type": "markdown",
      "metadata": {
        "id": "view-in-github",
        "colab_type": "text"
      },
      "source": [
        "<a href=\"https://colab.research.google.com/github/inefable12/upch_rp_2023/blob/main/Optimizacion_de_hiperparametros_RegLog2.ipynb\" target=\"_parent\"><img src=\"https://colab.research.google.com/assets/colab-badge.svg\" alt=\"Open In Colab\"/></a>"
      ]
    },
    {
      "cell_type": "markdown",
      "source": [
        "# Usando el modelo guardado"
      ],
      "metadata": {
        "id": "phzVmZWmoX6n"
      }
    },
    {
      "cell_type": "code",
      "execution_count": 1,
      "metadata": {
        "id": "8rNOTjhrlh-e"
      },
      "outputs": [],
      "source": [
        "import pandas as pd\n",
        "import numpy as np\n",
        "\n",
        "NewData = pd.read_csv(\"https://raw.githubusercontent.com/robintux/Datasets4StackOverFlowQuestions/master/breast-cancer-wisconsin.csv\")"
      ]
    },
    {
      "cell_type": "code",
      "source": [
        "# Separamos las variables independientes de la variable dependiente\n",
        "Diagnostico = NewData.diagnosis\n",
        "Caracteristicas = NewData.drop([\"diagnosis\",\"id\",\"Unnamed: 32\"], axis=1)"
      ],
      "metadata": {
        "id": "tCSFu7jCmDxn"
      },
      "execution_count": 2,
      "outputs": []
    },
    {
      "cell_type": "code",
      "source": [
        "# Construimos una muestra\n",
        "#Seleccionamos índices al azar para muestrear nuestro dataset: NewData\n",
        "\n",
        "MuestraIdx1 = np.random.randint(0, NewData.shape[0], round(0.11*NewData.shape[0]))\n",
        "\n",
        "MuestraVarInd = Caracteristicas.iloc[MuestraIdx1, :]\n",
        "MuestraVarDep = Diagnostico.iloc[MuestraIdx1]"
      ],
      "metadata": {
        "id": "RyBdlJ_HmDsL"
      },
      "execution_count": 3,
      "outputs": []
    },
    {
      "cell_type": "code",
      "source": [
        "#Carguemos el modelo en memoria ram\n",
        "\n",
        "import pickle\n",
        "ModFromClase7 = \"ModeloRegLog_Clase7.pkl\"\n",
        "with open(ModFromClase7, \"rb\") as ModFileClass7:\n",
        "  ModProduccion = pickle.load(ModFileClass7)\n",
        "\n",
        "# Construimos pronósticos\n",
        "Forecast1 = ModProduccion.predict(MuestraVarInd)\n",
        "Forecast1"
      ],
      "metadata": {
        "colab": {
          "base_uri": "https://localhost:8080/"
        },
        "id": "NuBQK5ljl759",
        "outputId": "2728f759-2639-4bdf-cfc2-a0044e10b739"
      },
      "execution_count": 5,
      "outputs": [
        {
          "output_type": "execute_result",
          "data": {
            "text/plain": [
              "array(['B', 'B', 'B', 'M', 'M', 'B', 'B', 'B', 'B', 'M', 'B', 'M', 'B',\n",
              "       'B', 'M', 'M', 'B', 'B', 'B', 'B', 'M', 'B', 'B', 'B', 'M', 'M',\n",
              "       'B', 'M', 'M', 'B', 'B', 'B', 'M', 'B', 'B', 'B', 'B', 'M', 'B',\n",
              "       'B', 'B', 'B', 'B', 'M', 'B', 'B', 'M', 'B', 'B', 'M', 'B', 'B',\n",
              "       'B', 'M', 'B', 'M', 'B', 'B', 'M', 'B', 'M', 'M', 'B'],\n",
              "      dtype=object)"
            ]
          },
          "metadata": {},
          "execution_count": 5
        }
      ]
    },
    {
      "cell_type": "code",
      "source": [
        "# Calculemos la matriz de confusión\n",
        "from sklearn.metrics import confusion_matrix\n",
        "\n",
        "confusion_matrix(MuestraVarDep, Forecast1)"
      ],
      "metadata": {
        "colab": {
          "base_uri": "https://localhost:8080/"
        },
        "id": "eMbNjIPVnZEE",
        "outputId": "c9a98b23-0aa3-4cac-a2d2-314e34bfea33"
      },
      "execution_count": 6,
      "outputs": [
        {
          "output_type": "execute_result",
          "data": {
            "text/plain": [
              "array([[42,  2],\n",
              "       [ 0, 19]])"
            ]
          },
          "metadata": {},
          "execution_count": 6
        }
      ]
    },
    {
      "cell_type": "markdown",
      "source": [
        "# Y si incrementamos el número de pronósticos"
      ],
      "metadata": {
        "id": "4ysZr7jBn6-p"
      }
    },
    {
      "cell_type": "code",
      "source": [
        "MuestraIdx1 = np.random.randint(0, NewData.shape[0], round(0.50*NewData.shape[0]))\n",
        "\n",
        "MuestraVarInd = Caracteristicas.iloc[MuestraIdx1, :]\n",
        "MuestraVarDep = Diagnostico.iloc[MuestraIdx1]\n",
        "\n",
        "import pickle\n",
        "ModFromClase7 = \"ModeloRegLog_Clase7.pkl\"\n",
        "with open(ModFromClase7, \"rb\") as ModFileClass7:\n",
        "  ModProduccion = pickle.load(ModFileClass7)\n",
        "\n",
        "Forecast1 = ModProduccion.predict(MuestraVarInd)\n",
        "\n",
        "from sklearn.metrics import confusion_matrix\n",
        "confusion_matrix(MuestraVarDep, Forecast1)"
      ],
      "metadata": {
        "colab": {
          "base_uri": "https://localhost:8080/"
        },
        "id": "aM7C5IRonu1W",
        "outputId": "a82aafd5-fbea-4f7c-da97-2c6036bf7a50"
      },
      "execution_count": 7,
      "outputs": [
        {
          "output_type": "execute_result",
          "data": {
            "text/plain": [
              "array([[181,   6],\n",
              "       [  5,  92]])"
            ]
          },
          "metadata": {},
          "execution_count": 7
        }
      ]
    }
  ]
}