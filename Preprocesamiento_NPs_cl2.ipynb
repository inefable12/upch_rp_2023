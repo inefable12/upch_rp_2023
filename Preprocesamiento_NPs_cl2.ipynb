{
  "nbformat": 4,
  "nbformat_minor": 0,
  "metadata": {
    "colab": {
      "provenance": [],
      "include_colab_link": true
    },
    "kernelspec": {
      "name": "python3",
      "display_name": "Python 3"
    },
    "language_info": {
      "name": "python"
    }
  },
  "cells": [
    {
      "cell_type": "markdown",
      "metadata": {
        "id": "view-in-github",
        "colab_type": "text"
      },
      "source": [
        "<a href=\"https://colab.research.google.com/github/inefable12/upch_rp_2023/blob/main/Preprocesamiento_NPs_cl2.ipynb\" target=\"_parent\"><img src=\"https://colab.research.google.com/assets/colab-badge.svg\" alt=\"Open In Colab\"/></a>"
      ]
    },
    {
      "cell_type": "markdown",
      "source": [
        "$$\\Large \\textit{C0708 | Reconocimiento de Patrones}$$\n",
        "\n",
        "$$\\large \\textbf{Ejercicio práctico | Visualización y pre-procesamiento de datos}$$\n",
        "\n",
        "_Profesor: Jesus Alvarado_\n"
      ],
      "metadata": {
        "id": "-NviLwuuFVLy"
      }
    },
    {
      "cell_type": "markdown",
      "source": [
        "[Contexto] A partir de nuestra base de datos formada por compuestos químicos provenientes de **17 plantas** de Puno y experimentos in silico (acoplamiento molecular) con una de las proteínas de interés farmacológico en el SARS-CoV-2, la proteasa principal, queremos conocer la distribución de los valores de energía de acoplamiento (**docking score**) respecto de cada planta."
      ],
      "metadata": {
        "id": "ApVDHO_YGbnh"
      }
    },
    {
      "cell_type": "code",
      "execution_count": null,
      "metadata": {
        "id": "ef4cm-MgYF24"
      },
      "outputs": [],
      "source": [
        "import matplotlib.pyplot as plt\n",
        "import numpy as np\n",
        "import pandas as pd"
      ]
    },
    {
      "cell_type": "code",
      "source": [
        "df0 = pd.read_csv(\"https://raw.githubusercontent.com/inefable12/upch_rp_2023/main/MDG202_cl2.csv\",index_col=\"CID\")\n",
        "df0.head(3)"
      ],
      "metadata": {
        "id": "ZpIh7c8li_7V"
      },
      "execution_count": null,
      "outputs": []
    },
    {
      "cell_type": "code",
      "source": [
        "df1 = pd.read_csv(\"https://raw.githubusercontent.com/inefable12/upch_rp_2023/main/mdg_glide_score2023_cl2.csv\",index_col=\"CID\",sep=\";\")\n",
        "df1.head(3)"
      ],
      "metadata": {
        "id": "_R5rmmKHxube"
      },
      "execution_count": null,
      "outputs": []
    },
    {
      "cell_type": "code",
      "source": [
        "df0.shape, df1.shape"
      ],
      "metadata": {
        "id": "-FjCDIXt2XDG"
      },
      "execution_count": null,
      "outputs": []
    },
    {
      "cell_type": "code",
      "source": [
        "df = df0.merge(df1, how='inner', left_index=True, right_index=True)"
      ],
      "metadata": {
        "id": "OYBj3_yf8LUO"
      },
      "execution_count": null,
      "outputs": []
    },
    {
      "cell_type": "code",
      "source": [
        "df.head(3)"
      ],
      "metadata": {
        "id": "OPJQAkyM8WYJ"
      },
      "execution_count": null,
      "outputs": []
    },
    {
      "cell_type": "code",
      "source": [
        "df.shape"
      ],
      "metadata": {
        "id": "GC-Ow7dGRwgx"
      },
      "execution_count": null,
      "outputs": []
    },
    {
      "cell_type": "code",
      "source": [
        "df['PLANT'].values"
      ],
      "metadata": {
        "id": "sFvmUB9TRyd7"
      },
      "execution_count": null,
      "outputs": []
    },
    {
      "cell_type": "code",
      "source": [
        "df['PLANT'].unique()"
      ],
      "metadata": {
        "id": "S_YCOLLuQIe-"
      },
      "execution_count": null,
      "outputs": []
    },
    {
      "cell_type": "code",
      "source": [
        "df['PLANT'] = np.where(df['PLANT']=='Capsella bursa ','Capsella bursa',df['PLANT'])"
      ],
      "metadata": {
        "id": "uJExlAcDQi5A"
      },
      "execution_count": null,
      "outputs": []
    },
    {
      "cell_type": "code",
      "source": [
        "list(df.columns)"
      ],
      "metadata": {
        "id": "f-gBTZKo-OhT"
      },
      "execution_count": null,
      "outputs": []
    },
    {
      "cell_type": "code",
      "source": [
        "df.drop(['NAME','IUPAC','ISOMERIC_SMILES','NUMBER','SMILES'],inplace=True,axis=1)"
      ],
      "metadata": {
        "id": "r3V9yEvR-GZO"
      },
      "execution_count": null,
      "outputs": []
    },
    {
      "cell_type": "code",
      "source": [
        "df = df.dropna()"
      ],
      "metadata": {
        "id": "YMPPmJki9abp"
      },
      "execution_count": null,
      "outputs": []
    },
    {
      "cell_type": "code",
      "source": [
        "df.shape"
      ],
      "metadata": {
        "id": "mXFXsg_3A3xK"
      },
      "execution_count": null,
      "outputs": []
    },
    {
      "cell_type": "code",
      "source": [
        "df.reset_index(inplace=True)"
      ],
      "metadata": {
        "id": "zezSVFPv6OYM"
      },
      "execution_count": null,
      "outputs": []
    },
    {
      "cell_type": "code",
      "source": [
        "df.head(3)"
      ],
      "metadata": {
        "id": "FeoSmq7P423v"
      },
      "execution_count": null,
      "outputs": []
    },
    {
      "cell_type": "code",
      "source": [
        "df.shape"
      ],
      "metadata": {
        "id": "yvt_ud0xJTie"
      },
      "execution_count": null,
      "outputs": []
    },
    {
      "cell_type": "code",
      "source": [
        "df.drop_duplicates(subset=['CID'], keep='first', inplace=True)"
      ],
      "metadata": {
        "id": "dbTrAgRv4vwE"
      },
      "execution_count": null,
      "outputs": []
    },
    {
      "cell_type": "code",
      "source": [
        "df.shape"
      ],
      "metadata": {
        "id": "BC324kyk9iVI"
      },
      "execution_count": null,
      "outputs": []
    },
    {
      "cell_type": "code",
      "source": [
        "df.head(3)"
      ],
      "metadata": {
        "id": "vfM05BqY5UMZ"
      },
      "execution_count": null,
      "outputs": []
    },
    {
      "cell_type": "code",
      "source": [
        "df.info()"
      ],
      "metadata": {
        "id": "WFAFNuQGThd0"
      },
      "execution_count": null,
      "outputs": []
    },
    {
      "cell_type": "code",
      "source": [
        "ax = plt.subplot()\n",
        "df['PLANT'].hist(figsize=(16,8),bins=20,width=0.5)\n",
        "plt.xticks(rotation=45)\n",
        "plt.xlabel('Plantas')\n",
        "plt.ylabel('Número de compuestos por planta')\n",
        "#plt.title('Histograma')\n",
        "plt.show()"
      ],
      "metadata": {
        "id": "ooaYaDrCwWY_"
      },
      "execution_count": null,
      "outputs": []
    },
    {
      "cell_type": "code",
      "source": [
        "import pandas as pd\n",
        "import seaborn as sns\n",
        "\n",
        "fig = plt.figure(figsize=(16, 8))\n",
        "\n",
        "###\n",
        "ax = sns.boxplot(x='PLANT', y='docking score', data=df, ax=fig.add_subplot(1,1,1), showfliers=False, color='white')\n",
        "sns.swarmplot(x='PLANT', y='docking score', data=df, ax=ax, color='blue', size=5)\n",
        "###\n",
        "\n",
        "# Rotar las etiquetas del eje x\n",
        "ax.set_xticklabels(ax.get_xticklabels(), rotation=60)\n",
        "\n",
        "# Agregar título de gráfica y etiquetas de eje\n",
        "plt.title('Box Plot')\n",
        "#ax.set_xticklabels(ax.get_xticklabels(), rotation=45)\n",
        "plt.xlabel('Plants', fontsize=16, fontweight='bold')\n",
        "plt.ylabel('Docking score', rotation=90, fontsize=16, fontweight='bold')\n",
        "\n",
        "# Mostrar la gráfica\n",
        "plt.show()"
      ],
      "metadata": {
        "id": "S08XKL3HRfRs"
      },
      "execution_count": null,
      "outputs": []
    },
    {
      "cell_type": "code",
      "source": [
        "data = df"
      ],
      "metadata": {
        "id": "KdhB7AFJRD-8"
      },
      "execution_count": null,
      "outputs": []
    },
    {
      "cell_type": "code",
      "source": [
        "data['PLANT'] = np.where(data['PLANT']=='E. tlocktoniae',np.NaN,data['PLANT'])\n",
        "data['PLANT'] = np.where(data['PLANT']=='Minthostachys mollis',np.NaN,data['PLANT'])\n",
        "data['PLANT'] = np.where(data['PLANT']=='Leucheria daucifolia',np.NaN,data['PLANT'])\n",
        "data['PLANT'] = np.where(data['PLANT']=='E. sieberi',np.NaN,data['PLANT'])\n",
        "data['PLANT'] = np.where(data['PLANT']=='Bidens andicola',np.NaN,data['PLANT'])\n",
        "data['PLANT'] = np.where(data['PLANT']=='Bidens pilosa',np.NaN,data['PLANT'])\n",
        "data['PLANT'] = np.where(data['PLANT']=='Cinchona officinalis',np.NaN,data['PLANT'])\n",
        "data['PLANT'] = np.where(data['PLANT']=='E. sideroxylon',np.NaN,data['PLANT'])\n",
        "data['PLANT'] = np.where(data['PLANT']=='E. amaldulensis',np.NaN,data['PLANT'])\n",
        "data['PLANT'] = np.where(data['PLANT']=='Baccharis trimera',np.NaN,data['PLANT'])\n",
        "data['PLANT'] = np.where(data['PLANT']=='E. alophylla',np.NaN,data['PLANT'])\n",
        "data['PLANT'] = np.where(data['PLANT']=='E. maculata',np.NaN,data['PLANT'])"
      ],
      "metadata": {
        "id": "C7g3vOSU0pnv"
      },
      "execution_count": null,
      "outputs": []
    },
    {
      "cell_type": "code",
      "source": [
        "data = data.dropna()\n",
        "data"
      ],
      "metadata": {
        "id": "XOij4YQlNqYR"
      },
      "execution_count": null,
      "outputs": []
    },
    {
      "cell_type": "code",
      "source": [
        "# Crear una figura y un eje\n",
        "fig, ax = plt.subplots()\n",
        "\n",
        "# Crear la gráfica de cajas y bigotes\n",
        "ax.boxplot([data[data['PLANT'] == 'Aloysia triphylla']['docking score'],\n",
        "            data[data['PLANT'] == 'Baccharis latifolia']['docking score'],\n",
        "            data[data['PLANT'] == 'Capsella bursa']['docking score'],\n",
        "            data[data['PLANT'] == 'Buddleja globosa']['docking score'],\n",
        "            data[data['PLANT'] == 'Brugmancia andida']['docking score']],\n",
        "           labels=['Aloysia_triphylla', 'Baccharis_latifolia', 'Capsella_bursa', 'Buddleja_globosa', 'Brugmanciaandida'])\n",
        "\n",
        "# Agregar etiquetas de eje y título\n",
        "ax.set_xticklabels(ax.get_xticklabels(), rotation=60)\n",
        "ax.set_xlabel('Plantas', rotation=45)\n",
        "ax.set_ylabel('Energía de afinidad')\n",
        "ax.set_title('Gráfica de Cajas y Bigotes')\n",
        "\n",
        "# Mostrar la gráfica\n",
        "plt.show()"
      ],
      "metadata": {
        "id": "cKyZ1Enw0f1K"
      },
      "execution_count": null,
      "outputs": []
    },
    {
      "cell_type": "code",
      "source": [
        "import pandas as pd\n",
        "import seaborn as sns\n",
        "\n",
        "fig = plt.figure(figsize=(16, 8))\n",
        "#ax = sns.boxplot(x='PLANT', y='docking score', data=data)\n",
        "\n",
        "###\n",
        "ax = sns.boxplot(x='PLANT', y='docking score', data=data, ax=fig.add_subplot(1,1,1), showfliers=False, color='white')\n",
        "sns.swarmplot(x='PLANT', y='docking score', data=data, ax=ax, color='blue', size=5)\n",
        "###\n",
        "\n",
        "# Rotar las etiquetas del eje x\n",
        "ax.set_xticklabels(ax.get_xticklabels(), rotation=60)\n",
        "\n",
        "# Agregar título de gráfica y etiquetas de eje\n",
        "plt.title('Box Plot')\n",
        "#ax.set_xticklabels(ax.get_xticklabels(), rotation=45)\n",
        "plt.xlabel('Plants', fontsize=16, fontweight='bold')\n",
        "plt.ylabel('Docking score', rotation=90, fontsize=16, fontweight='bold')\n",
        "\n",
        "# Mostrar la gráfica\n",
        "plt.show()"
      ],
      "metadata": {
        "id": "ePCEgmwx2z0b"
      },
      "execution_count": null,
      "outputs": []
    },
    {
      "cell_type": "code",
      "source": [
        "sns.catplot(x = \"PLANT\", y = \"docking score\", data = data, kind = \"violin\")\n",
        "plt.show();"
      ],
      "metadata": {
        "id": "B3aT3s_iXx-E"
      },
      "execution_count": null,
      "outputs": []
    }
  ]
}